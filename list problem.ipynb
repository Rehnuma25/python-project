{
 "cells": [
  {
   "cell_type": "markdown",
   "id": "2ee147b4-502c-48ea-be4f-f80aca92a735",
   "metadata": {},
   "source": [
    "\n"
   ]
  },
  {
   "cell_type": "markdown",
   "id": "bcfcf157-76c9-44ac-b303-71a995150794",
   "metadata": {},
   "source": [
    "# sum of all numbers\n"
   ]
  },
  {
   "cell_type": "code",
   "execution_count": null,
   "id": "5feecc9b-35eb-4830-8e2f-686b0be77db6",
   "metadata": {},
   "outputs": [
    {
     "name": "stdout",
     "output_type": "stream",
     "text": [
      "Enter the numbers: 4.4 5.9 9.8 13 45\n"
     ]
    },
    {
     "name": "stdout",
     "output_type": "stream",
     "text": [
      "The sum of the numbers: 78.1\n"
     ]
    }
   ],
   "source": [
    "num_list= input(\"Enter the numbers:\")\n",
    "number = [float(num) for num in num_list.split()]\n",
    "total = sum(number)\n",
    "print(\"The sum of the numbers:\", total)\n"
   ]
  },
  {
   "cell_type": "markdown",
   "id": "1961ef6f-b8d4-4d8e-908f-a377c110a6be",
   "metadata": {},
   "source": [
    "# multiples all items"
   ]
  },
  {
   "cell_type": "code",
   "execution_count": 4,
   "id": "d6f86f5e-47ff-4d28-aba5-733e3769ded8",
   "metadata": {},
   "outputs": [
    {
     "name": "stdin",
     "output_type": "stream",
     "text": [
      "Enter numbers separated by space:  2 3 4 5\n"
     ]
    },
    {
     "name": "stdout",
     "output_type": "stream",
     "text": [
      "The multiplication of the numbers: 120.0\n"
     ]
    }
   ],
   "source": [
    "\n",
    "def multiply_numbers():\n",
    "    num_list = input(\"Enter numbers separated by space: \")\n",
    "    numbers = [float(num) for num in num_list.split()]\n",
    "    result = 1\n",
    "    for num in numbers:\n",
    "        result *= num\n",
    "    print(\"The multiplication of the numbers:\", result)\n",
    "\n",
    "multiply_numbers()\n"
   ]
  },
  {
   "cell_type": "markdown",
   "id": "99ecc4e4-f8dd-4967-b7c9-35db27f9b7e2",
   "metadata": {},
   "source": [
    "# Max number\n"
   ]
  },
  {
   "cell_type": "code",
   "execution_count": 11,
   "id": "1b798956-252a-4943-bfc3-e92eb7c0603c",
   "metadata": {},
   "outputs": [
    {
     "name": "stdin",
     "output_type": "stream",
     "text": [
      "Enter numbers :  2 3 4 5 6\n"
     ]
    },
    {
     "name": "stdout",
     "output_type": "stream",
     "text": [
      "The max of the numbers: 6.0\n"
     ]
    }
   ],
   "source": [
    "def max_numbers():\n",
    "    max_num = input(\"Enter numbers : \")\n",
    "    numbers = [float(num) for num in max_num.split()]\n",
    "    result = max(numbers) \n",
    "    print(\"The max of the numbers:\", result)\n",
    "\n",
    "max_numbers()\n",
    "\n"
   ]
  },
  {
   "cell_type": "markdown",
   "id": "ecd2a029-6815-4cd0-8ca8-aeb193a311d0",
   "metadata": {},
   "source": [
    "# small number"
   ]
  },
  {
   "cell_type": "code",
   "execution_count": 1,
   "id": "10c41804-fad4-4808-934a-86ddeb7d3caa",
   "metadata": {},
   "outputs": [
    {
     "name": "stdin",
     "output_type": "stream",
     "text": [
      "Enter numbers :  2 3 4\n"
     ]
    },
    {
     "name": "stdout",
     "output_type": "stream",
     "text": [
      "The small of the numbers: 2.0\n"
     ]
    }
   ],
   "source": [
    "def small_numbers():\n",
    "    small_num = input(\"Enter numbers : \")\n",
    "    numbers = [float(num) for num in small_num.split()]\n",
    "    result = min(numbers) \n",
    "    print(\"The small of the numbers:\", result)\n",
    "\n",
    "small_numbers()"
   ]
  },
  {
   "cell_type": "markdown",
   "id": "446d6cd2-42f4-40a1-8ae4-58cd544b4bb5",
   "metadata": {},
   "source": [
    "#  Count Strings with Same Start and End"
   ]
  },
  {
   "cell_type": "code",
   "execution_count": 8,
   "id": "b94fbd46-1936-48db-8b35-1fceedcea07f",
   "metadata": {},
   "outputs": [
    {
     "name": "stdin",
     "output_type": "stream",
     "text": [
      "Enter words:  aaa ccc dfg bhu ooop\n"
     ]
    },
    {
     "name": "stdout",
     "output_type": "stream",
     "text": [
      "Matching words: 2\n"
     ]
    }
   ],
   "source": [
    "def match_words(words):  \n",
    "    ctr = 0\n",
    "    for string in words:\n",
    "        if len(string) > 1 and string[0] == string[-1]:  \n",
    "            ctr += 1  \n",
    "    return ctr  \n",
    "\n",
    "string_name= input(\"Enter words: \")  \n",
    "stng = string_name.split()\n",
    "print(\"Matching words:\", match_words(stng))\n"
   ]
  },
  {
   "cell_type": "markdown",
   "id": "bc963a53-d770-43b6-8b38-3868ae5411b7",
   "metadata": {},
   "source": [
    "# remove duplicate value\n"
   ]
  },
  {
   "cell_type": "code",
   "execution_count": 2,
   "id": "e4545f43-178d-4dfd-8f1f-cf585ed424fd",
   "metadata": {},
   "outputs": [
    {
     "name": "stdout",
     "output_type": "stream",
     "text": [
      "['a', 'ba', 'ca', 'c']\n"
     ]
    }
   ],
   "source": [
    "my_list = [\"a\", \"ba\", \"a\", \"ca\", \"c\"]\n",
    "my_list = list(dict.fromkeys(my_list))\n",
    "print(my_list)"
   ]
  },
  {
   "cell_type": "markdown",
   "id": "548ac005-7fbe-4adb-8cfc-722d136998a1",
   "metadata": {},
   "source": [
    "# empty list"
   ]
  },
  {
   "cell_type": "code",
   "execution_count": 7,
   "id": "1b756137-f032-487c-a0e4-48a1e26c1b30",
   "metadata": {},
   "outputs": [
    {
     "name": "stdout",
     "output_type": "stream",
     "text": [
      "List is empty\n"
     ]
    }
   ],
   "source": [
    "l = []\n",
    "if not l:\n",
    "   print(\"List is empty\")\n"
   ]
  },
  {
   "cell_type": "markdown",
   "id": "708f789d-a89f-4700-9fa9-047b2b3e2006",
   "metadata": {},
   "source": [
    "# clone or copy list"
   ]
  },
  {
   "cell_type": "code",
   "execution_count": 2,
   "id": "0c2b8577-1ae5-49f9-a04e-dd4f97c7cbaf",
   "metadata": {},
   "outputs": [
    {
     "name": "stdout",
     "output_type": "stream",
     "text": [
      "[10, 22, 44, 23, 4]\n",
      "[10, 22, 44, 23, 4]\n"
     ]
    }
   ],
   "source": [
    "my_list = [10, 22, 44, 23, 4]\n",
    "new_list = list(my_list)\n",
    "print(my_list)\n",
    "print(new_list)\n",
    "\n"
   ]
  },
  {
   "cell_type": "markdown",
   "id": "88d41c74-1b41-4f40-9c86-d138e7425a03",
   "metadata": {},
   "source": [
    "# common elements two list"
   ]
  },
  {
   "cell_type": "code",
   "execution_count": 11,
   "id": "563d8d06-2f59-4131-8b13-2bfadc10eb46",
   "metadata": {},
   "outputs": [
    {
     "name": "stdout",
     "output_type": "stream",
     "text": [
      "True\n",
      "None\n"
     ]
    }
   ],
   "source": [
    "def common_value(list1,list2):\n",
    "  result = False\n",
    "  for x in list1:\n",
    "        for y in list2:\n",
    "            if x == y:\n",
    "                result = True\n",
    "                return result\n",
    "                \n",
    "print(common_value([1, 2, 3, 7, 5], [5, 6, 7, 8, 9]))\n",
    "print(common_value([1, 22, 37, 40, 53], [65, 78, 81, 19])) \n"
   ]
  },
  {
   "cell_type": "markdown",
   "id": "380d53d8-c949-4c31-b43b-e580749c2afa",
   "metadata": {},
   "source": [
    "# SPECIFIED list remove"
   ]
  },
  {
   "cell_type": "code",
   "execution_count": 12,
   "id": "872ba195-26bd-4037-9a20-00e765e77ab3",
   "metadata": {},
   "outputs": [
    {
     "name": "stdout",
     "output_type": "stream",
     "text": [
      "['Green', 'White', 'Black']\n"
     ]
    }
   ],
   "source": [
    "color = ['Red', 'Green', 'White', 'Black', 'Pink', 'Yellow']\n",
    "color = [x for (i, x) in enumerate(color) if i not in (0, 4, 5)]\n",
    "print(color)\n"
   ]
  },
  {
   "cell_type": "markdown",
   "id": "24f47512-15cf-440b-acb1-bd66a4db0128",
   "metadata": {},
   "source": [
    "# sorted in increasing order by the last element"
   ]
  },
  {
   "cell_type": "code",
   "execution_count": 10,
   "id": "b2b3ae93-5454-4341-84cb-8059a6747663",
   "metadata": {},
   "outputs": [
    {
     "name": "stdout",
     "output_type": "stream",
     "text": [
      "[(2, 1), (1, 2), (2, 3), (4, 4), (2, 5)]\n"
     ]
    }
   ],
   "source": [
    "a = [(2, 5), (1, 2), (4, 4), (2, 3), (2, 1)]\n",
    "\n",
    "for i in range(len(a)):\n",
    "    for j in range ( i+1,len(a)):\n",
    "        if a[i][1] > a[j][1]:\n",
    "            a[j],a[i] = a[i],a[j]\n",
    "print(a)\n",
    "\n",
    "        "
   ]
  },
  {
   "cell_type": "markdown",
   "id": "d7f65cee-5951-44f1-8482-6b2b3591de97",
   "metadata": {},
   "source": [
    "# string  length\n"
   ]
  },
  {
   "cell_type": "code",
   "execution_count": 13,
   "id": "1ec5a19f-3b82-4c6c-b1e5-28746f0e1e6f",
   "metadata": {},
   "outputs": [
    {
     "name": "stdout",
     "output_type": "stream",
     "text": [
      "['upoma', 'good', 'personality']\n"
     ]
    }
   ],
   "source": [
    "def long_words(n, str):\n",
    "    string = []\n",
    "    text= str.split(\" \")\n",
    "    for i in text:\n",
    "        if len(i)> n:\n",
    "           string.append(i)\n",
    "    return string\n",
    "print(long_words(3, \"upoma has good personality\"))\n",
    "    \n"
   ]
  },
  {
   "cell_type": "markdown",
   "id": "51af20e3-674a-4d5f-97fa-3a4d10a25d8a",
   "metadata": {},
   "source": [
    "# common value\n"
   ]
  },
  {
   "cell_type": "code",
   "execution_count": 27,
   "id": "2852415a-758b-4cbd-83e4-943f1d06a072",
   "metadata": {},
   "outputs": [
    {
     "name": "stdin",
     "output_type": "stream",
     "text": [
      "Enter the value: 1 2 3 4 5 \n",
      "Enter the value: 5 6 7 8 9\n"
     ]
    },
    {
     "name": "stdout",
     "output_type": "stream",
     "text": [
      "True\n"
     ]
    }
   ],
   "source": [
    "def common_value(list1,list2):\n",
    "    result = False\n",
    "    for x in list1:\n",
    "        for y in list2:\n",
    "            if x == y:\n",
    "               result= True\n",
    "               return result\n",
    "list1=list(map(int,input(\"Enter the value:\").split()))\n",
    "list2=list(map(int,input(\"Enter the value:\").split()))\n",
    "print(common_value(list1, list2))"
   ]
  },
  {
   "cell_type": "markdown",
   "id": "28d73339-27ec-4695-b379-e464545ec4b0",
   "metadata": {},
   "source": [
    "# removing even numbers"
   ]
  },
  {
   "cell_type": "code",
   "execution_count": 35,
   "id": "01c12f9e-9b8d-43bf-9c38-4f8ee5972cb6",
   "metadata": {},
   "outputs": [
    {
     "name": "stdin",
     "output_type": "stream",
     "text": [
      "Enter the  numbers :  1 2 3 4 5 6\n"
     ]
    },
    {
     "name": "stdout",
     "output_type": "stream",
     "text": [
      "removing even numbers: [1, 3, 5]\n"
     ]
    }
   ],
   "source": [
    "list1 = list(map(int, input(\"Enter the  numbers : \").split()))\n",
    "result = []\n",
    "for x in list1:\n",
    "    if x%2 != 0:\n",
    "         result.append(x) \n",
    "print(\"removing even numbers:\", result)\n"
   ]
  },
  {
   "cell_type": "code",
   "execution_count": 36,
   "id": "13f820ea-45dc-47f4-9ab7-2be0d8d7aed8",
   "metadata": {},
   "outputs": [
    {
     "name": "stdin",
     "output_type": "stream",
     "text": [
      "Enter the  numbers :  1 2 3 4\n"
     ]
    },
    {
     "name": "stdout",
     "output_type": "stream",
     "text": [
      "[1, 3]\n"
     ]
    }
   ],
   "source": [
    "# alternative \n",
    "\n",
    "list1 = list(map(int, input(\"Enter the  numbers : \").split()))\n",
    "result = [x for x in list1 if x % 2 != 0]  \n",
    "print(result) \n"
   ]
  },
  {
   "cell_type": "markdown",
   "id": "41684159-7216-4a12-97bb-4bfff7b8d562",
   "metadata": {},
   "source": [
    "# permutations"
   ]
  },
  {
   "cell_type": "code",
   "execution_count": 39,
   "id": "31741eec-588e-4450-87ff-08d10553c06c",
   "metadata": {},
   "outputs": [
    {
     "name": "stdout",
     "output_type": "stream",
     "text": [
      "[(1, 2, 3, 4, 5), (1, 2, 3, 5, 4), (1, 2, 4, 3, 5), (1, 2, 4, 5, 3), (1, 2, 5, 3, 4), (1, 2, 5, 4, 3), (1, 3, 2, 4, 5), (1, 3, 2, 5, 4), (1, 3, 4, 2, 5), (1, 3, 4, 5, 2), (1, 3, 5, 2, 4), (1, 3, 5, 4, 2), (1, 4, 2, 3, 5), (1, 4, 2, 5, 3), (1, 4, 3, 2, 5), (1, 4, 3, 5, 2), (1, 4, 5, 2, 3), (1, 4, 5, 3, 2), (1, 5, 2, 3, 4), (1, 5, 2, 4, 3), (1, 5, 3, 2, 4), (1, 5, 3, 4, 2), (1, 5, 4, 2, 3), (1, 5, 4, 3, 2), (2, 1, 3, 4, 5), (2, 1, 3, 5, 4), (2, 1, 4, 3, 5), (2, 1, 4, 5, 3), (2, 1, 5, 3, 4), (2, 1, 5, 4, 3), (2, 3, 1, 4, 5), (2, 3, 1, 5, 4), (2, 3, 4, 1, 5), (2, 3, 4, 5, 1), (2, 3, 5, 1, 4), (2, 3, 5, 4, 1), (2, 4, 1, 3, 5), (2, 4, 1, 5, 3), (2, 4, 3, 1, 5), (2, 4, 3, 5, 1), (2, 4, 5, 1, 3), (2, 4, 5, 3, 1), (2, 5, 1, 3, 4), (2, 5, 1, 4, 3), (2, 5, 3, 1, 4), (2, 5, 3, 4, 1), (2, 5, 4, 1, 3), (2, 5, 4, 3, 1), (3, 1, 2, 4, 5), (3, 1, 2, 5, 4), (3, 1, 4, 2, 5), (3, 1, 4, 5, 2), (3, 1, 5, 2, 4), (3, 1, 5, 4, 2), (3, 2, 1, 4, 5), (3, 2, 1, 5, 4), (3, 2, 4, 1, 5), (3, 2, 4, 5, 1), (3, 2, 5, 1, 4), (3, 2, 5, 4, 1), (3, 4, 1, 2, 5), (3, 4, 1, 5, 2), (3, 4, 2, 1, 5), (3, 4, 2, 5, 1), (3, 4, 5, 1, 2), (3, 4, 5, 2, 1), (3, 5, 1, 2, 4), (3, 5, 1, 4, 2), (3, 5, 2, 1, 4), (3, 5, 2, 4, 1), (3, 5, 4, 1, 2), (3, 5, 4, 2, 1), (4, 1, 2, 3, 5), (4, 1, 2, 5, 3), (4, 1, 3, 2, 5), (4, 1, 3, 5, 2), (4, 1, 5, 2, 3), (4, 1, 5, 3, 2), (4, 2, 1, 3, 5), (4, 2, 1, 5, 3), (4, 2, 3, 1, 5), (4, 2, 3, 5, 1), (4, 2, 5, 1, 3), (4, 2, 5, 3, 1), (4, 3, 1, 2, 5), (4, 3, 1, 5, 2), (4, 3, 2, 1, 5), (4, 3, 2, 5, 1), (4, 3, 5, 1, 2), (4, 3, 5, 2, 1), (4, 5, 1, 2, 3), (4, 5, 1, 3, 2), (4, 5, 2, 1, 3), (4, 5, 2, 3, 1), (4, 5, 3, 1, 2), (4, 5, 3, 2, 1), (5, 1, 2, 3, 4), (5, 1, 2, 4, 3), (5, 1, 3, 2, 4), (5, 1, 3, 4, 2), (5, 1, 4, 2, 3), (5, 1, 4, 3, 2), (5, 2, 1, 3, 4), (5, 2, 1, 4, 3), (5, 2, 3, 1, 4), (5, 2, 3, 4, 1), (5, 2, 4, 1, 3), (5, 2, 4, 3, 1), (5, 3, 1, 2, 4), (5, 3, 1, 4, 2), (5, 3, 2, 1, 4), (5, 3, 2, 4, 1), (5, 3, 4, 1, 2), (5, 3, 4, 2, 1), (5, 4, 1, 2, 3), (5, 4, 1, 3, 2), (5, 4, 2, 1, 3), (5, 4, 2, 3, 1), (5, 4, 3, 1, 2), (5, 4, 3, 2, 1)]\n"
     ]
    }
   ],
   "source": [
    "import itertools\n",
    "print(list(itertools.permutations([1, 2, 3,4,5])))\n"
   ]
  },
  {
   "cell_type": "markdown",
   "id": "049130ab-ab38-4d76-806e-47c03df6f934",
   "metadata": {},
   "source": [
    "# Difference between two lists."
   ]
  },
  {
   "cell_type": "code",
   "execution_count": 41,
   "id": "9cb33d57-73f0-4d0f-b24a-f3054e9006d9",
   "metadata": {},
   "outputs": [
    {
     "name": "stdin",
     "output_type": "stream",
     "text": [
      "Enter the number: 1 2 3 4\n",
      "Enter the number: 2 4 5\n"
     ]
    },
    {
     "name": "stdout",
     "output_type": "stream",
     "text": [
      "[1, 3, 5]\n"
     ]
    }
   ],
   "source": [
    "list1=list(map(int,input(\"Enter the number:\").split()))\n",
    "list2=list(map(int,input(\"Enter the number:\").split()))\n",
    "differ_ne1= list(set(list1)-set(list2))\n",
    "differ_ne2= list(set(list2)-set(list1))\n",
    "total_list= differ_ne1+differ_ne2\n",
    "print(total_list)"
   ]
  },
  {
   "cell_type": "markdown",
   "id": "40054e43-85ad-4e24-a04c-b84d0825fcde",
   "metadata": {},
   "source": [
    "# index value\n"
   ]
  },
  {
   "cell_type": "code",
   "execution_count": 44,
   "id": "f3a4bddd-be11-4a4e-b8ad-9ab28862c4ff",
   "metadata": {},
   "outputs": [
    {
     "name": "stdin",
     "output_type": "stream",
     "text": [
      "Enter the number: 1 2 3 4 5 6\n"
     ]
    },
    {
     "name": "stdout",
     "output_type": "stream",
     "text": [
      "0 1\n",
      "1 2\n",
      "2 3\n",
      "3 4\n",
      "4 5\n",
      "5 6\n"
     ]
    }
   ],
   "source": [
    "list1=list(map(int,input(\"Enter the number:\").split()))\n",
    "for list1_index ,list1_value  in enumerate (list1):\n",
    "    print ( list1_index ,list1_value)"
   ]
  },
  {
   "cell_type": "markdown",
   "id": "16057cd3-43c0-446f-bb0b-17f2d292046d",
   "metadata": {},
   "source": [
    "# list of characters into a string."
   ]
  },
  {
   "cell_type": "code",
   "execution_count": 54,
   "id": "1dc62ac5-7e1c-49fb-b142-a42af959ba04",
   "metadata": {},
   "outputs": [
    {
     "name": "stdout",
     "output_type": "stream",
     "text": [
      "a-m-i\n"
     ]
    }
   ],
   "source": [
    "val1=['a','m','i']\n",
    "s='-'.join(val1)\n",
    "print(s)"
   ]
  },
  {
   "cell_type": "markdown",
   "id": "85cc706c-10d3-4895-a890-fd79f91ee99c",
   "metadata": {},
   "source": [
    "# specified index value"
   ]
  },
  {
   "cell_type": "code",
   "execution_count": 62,
   "id": "f8e79e95-c90c-4227-b0eb-9c0e790fafe4",
   "metadata": {},
   "outputs": [
    {
     "name": "stdin",
     "output_type": "stream",
     "text": [
      "Enter the numbers:  1 2 3 4 5\n",
      "Enter the number-index:  3\n"
     ]
    },
    {
     "name": "stdout",
     "output_type": "stream",
     "text": [
      "2\n"
     ]
    }
   ],
   "source": [
    "list1 = list(map(int, input(\"Enter the numbers: \").split()))\n",
    "value1 = int(input(\"Enter the number-index: \")) # ask  the number\n",
    "if value1 in list1:   #check nthe value\n",
    "    print(list1.index(value1))  # Prints the index \n",
    "else:\n",
    "    print(f\"{value1} is not in the list.\")\n"
   ]
  },
  {
   "cell_type": "code",
   "execution_count": 65,
   "id": "c5d34e44-dfe4-41c0-965e-8da11aaf7ec3",
   "metadata": {},
   "outputs": [
    {
     "name": "stdout",
     "output_type": "stream",
     "text": [
      "1\n"
     ]
    }
   ],
   "source": [
    "# alternative this code\n",
    "\n",
    "list1=[ 1,2,3,4,5]\n",
    "print(list1.index(2))\n"
   ]
  },
  {
   "cell_type": "markdown",
   "id": "3098b879-01c6-45a8-b68f-9cceb41d267b",
   "metadata": {},
   "source": [
    "# append list"
   ]
  },
  {
   "cell_type": "code",
   "execution_count": 66,
   "id": "15d6184e-1178-463b-a05a-8fa674b6f22a",
   "metadata": {},
   "outputs": [
    {
     "name": "stdout",
     "output_type": "stream",
     "text": [
      "[1, 2, 3, 4, 5, 'red', 'blue']\n"
     ]
    }
   ],
   "source": [
    "list1=[ 1,2,3,4,5]\n",
    "list2=['red','blue']\n",
    "final=list1+list2\n",
    "print(final)"
   ]
  },
  {
   "cell_type": "markdown",
   "id": "40fab6d4-100f-4f79-8276-f4e82671906e",
   "metadata": {},
   "source": [
    "# flatter-list"
   ]
  },
  {
   "cell_type": "code",
   "execution_count": 1,
   "id": "4a67957e-fd73-44f6-bbac-ad294bde57cc",
   "metadata": {},
   "outputs": [
    {
     "name": "stdout",
     "output_type": "stream",
     "text": [
      "[1, 2, 2, 4, 6, 7, 9, 8]\n"
     ]
    }
   ],
   "source": [
    "a = [[1,2],[2,4,6],[7,9,8]]\n",
    "flatten_list= []\n",
    "for x in a:\n",
    "    for y in x:\n",
    "        flatten_list.append(y)\n",
    "print (flatten_list)"
   ]
  },
  {
   "cell_type": "code",
   "execution_count": null,
   "id": "b8f5304e-0916-40d6-9d49-245bf55c1ad1",
   "metadata": {},
   "outputs": [],
   "source": []
  },
  {
   "cell_type": "code",
   "execution_count": 4,
   "id": "dc708c81-8696-4a9d-a195-813aa6d7db2c",
   "metadata": {},
   "outputs": [
    {
     "name": "stdout",
     "output_type": "stream",
     "text": [
      "[1, 2, 2, 4, 6, 7, 9, 8]\n"
     ]
    }
   ],
   "source": [
    "#alternative flatten_list\n",
    "\n",
    "import itertools\n",
    "a = [[1,2],[2,4,6],[7,9,8]]\n",
    "new_list = list(itertools.chain(*a))\n",
    "print(new_list)               "
   ]
  },
  {
   "cell_type": "markdown",
   "id": "0e4ceb02-79fa-4392-b68a-15e78150292d",
   "metadata": {},
   "source": [
    "# Random Item from List"
   ]
  },
  {
   "cell_type": "code",
   "execution_count": 10,
   "id": "c0d8f296-305a-4d5e-868e-70b379fae6ef",
   "metadata": {},
   "outputs": [
    {
     "name": "stdin",
     "output_type": "stream",
     "text": [
      "Enter the num: 1 2 3 4 5 6 7 8\n"
     ]
    },
    {
     "name": "stdout",
     "output_type": "stream",
     "text": [
      "1\n"
     ]
    }
   ],
   "source": [
    "import random\n",
    "num_list =input(\"Enter the num:\")\n",
    "print(random.choice(num_list ))\n"
   ]
  },
  {
   "cell_type": "markdown",
   "id": "d279df4d-a2ae-4346-91d0-ca0df0a51296",
   "metadata": {},
   "source": [
    "# second  smallest number"
   ]
  },
  {
   "cell_type": "code",
   "execution_count": 11,
   "id": "839fbe81-6d3c-494b-80b3-da4f9c50f500",
   "metadata": {},
   "outputs": [
    {
     "name": "stdin",
     "output_type": "stream",
     "text": [
      "Enter the numbers:  2 3 5 6 1\n"
     ]
    },
    {
     "name": "stdout",
     "output_type": "stream",
     "text": [
      "second smallest number:2\n"
     ]
    }
   ],
   "source": [
    "list1 = list(map(int, input(\"Enter the numbers: \").split()))\n",
    "list1.sort()\n",
    "print(f\"second smallest number:{list1[1]}\")"
   ]
  },
  {
   "cell_type": "markdown",
   "id": "05f3addd-1e35-40f7-80c7-cd18105170c6",
   "metadata": {},
   "source": [
    "# second largest number "
   ]
  },
  {
   "cell_type": "code",
   "execution_count": 16,
   "id": "8fea3c4c-646a-45f1-8114-19c291601b61",
   "metadata": {},
   "outputs": [
    {
     "name": "stdin",
     "output_type": "stream",
     "text": [
      "Enter numbers:  2 3 6 7\n"
     ]
    },
    {
     "name": "stdout",
     "output_type": "stream",
     "text": [
      "Second largest number: 6\n"
     ]
    }
   ],
   "source": [
    "list1 = list(map(int, input(\"Enter numbers: \").split()))\n",
    "list1 = list(set(list1))  # Remove duplicates\n",
    "list1.sort()\n",
    "if len(list1) < 2:\n",
    "    print(\"second largest number.\")\n"
   ]
  },
  {
   "cell_type": "markdown",
   "id": "c7d2fd13-de6d-42a8-b586-f5b28012c9e8",
   "metadata": {},
   "source": [
    "# (32) sublists of a list."
   ]
  },
  {
   "cell_type": "code",
   "execution_count": 9,
   "id": "53a070e1-b581-40aa-89fd-b5722d7f5c6a",
   "metadata": {},
   "outputs": [
    {
     "name": "stdout",
     "output_type": "stream",
     "text": [
      "[1, 2, 3, 4]\n"
     ]
    }
   ],
   "source": [
    "def upo_ma(a):\n",
    "    b=[]\n",
    "    for i in a:\n",
    "        if isinstance(i,list):\n",
    "           b.extend(upo_ma(i))\n",
    "        else:\n",
    "           b.append(i)\n",
    "    return b\n",
    "    \n",
    "a = [[[1]],[[2]],[[3]],[[4]]] \n",
    "print(upo_ma(a))"
   ]
  },
  {
   "cell_type": "markdown",
   "id": "bb001f9e-f603-4320-ad31-4020b5ada986",
   "metadata": {},
   "source": [
    "# generate all sublists of a list."
   ]
  },
  {
   "cell_type": "code",
   "execution_count": 11,
   "id": "01b3169e-20a4-4fd8-be1f-7ce24742139e",
   "metadata": {},
   "outputs": [
    {
     "name": "stdout",
     "output_type": "stream",
     "text": [
      "[[1], [1, 2], [1, 2, 3], [1, 2, 3, 4], [2], [2, 3], [2, 3, 4], [3], [3, 4], [4]]\n"
     ]
    }
   ],
   "source": [
    "a = [1, 2, 3,4]  \n",
    "b= []  \n",
    "for i in range(len(a)):  \n",
    "    for j in range(i + 1, len(a) + 1):  \n",
    "        b.append(a[i:j])  \n",
    "print(b)  \n"
   ]
  },
  {
   "cell_type": "markdown",
   "id": "0478c213-552b-49f4-85a2-3213c9181a23",
   "metadata": {},
   "source": [
    "# unique number of list"
   ]
  },
  {
   "cell_type": "code",
   "execution_count": 12,
   "id": "d4284785-1d2d-4c8b-9a96-40b6601e0de0",
   "metadata": {},
   "outputs": [
    {
     "name": "stdin",
     "output_type": "stream",
     "text": [
      "Enter the numbers:  2 3 4 5 5\n"
     ]
    },
    {
     "name": "stdout",
     "output_type": "stream",
     "text": [
      "[2, 3, 4, 5]\n"
     ]
    }
   ],
   "source": [
    "list1 = list(map(int, input(\"Enter the numbers: \").split()))\n",
    "aa=[]\n",
    "for i in list1:\n",
    "    if i not in aa:\n",
    "        aa.append(i)\n",
    "print (aa)"
   ]
  },
  {
   "cell_type": "markdown",
   "id": "7897ce75-99db-471e-9a10-25d4c02305a6",
   "metadata": {},
   "source": [
    "# number of elements in a list within aspecified range."
   ]
  },
  {
   "cell_type": "code",
   "execution_count": 20,
   "id": "cb7fa463-42c3-4ce3-a7d9-814930507520",
   "metadata": {},
   "outputs": [
    {
     "name": "stdin",
     "output_type": "stream",
     "text": [
      "Enter the numbers:  1 2 3 45\n",
      "Enter the min and max values:  1 9\n"
     ]
    },
    {
     "name": "stdout",
     "output_type": "stream",
     "text": [
      "1\n",
      "2\n",
      "3\n",
      "None\n"
     ]
    }
   ],
   "source": [
    "def upo(li,min,max):\n",
    "    for i in li:\n",
    "        if min <= i <=max:\n",
    "           print (i)\n",
    "a=(map(int, input(\"Enter the numbers: \").split()))\n",
    "n, m = map(int, input(\"Enter the min and max values: \").split()) \n",
    "print(upo(a,n ,m))\n",
    "    "
   ]
  },
  {
   "cell_type": "markdown",
   "id": "798b0b3a-af0a-424b-89b5-caadc154a5b2",
   "metadata": {},
   "source": [
    "#  33.Generate all sublists of a list"
   ]
  },
  {
   "cell_type": "code",
   "execution_count": 1,
   "id": "e93e1c18-42d9-4b08-a7e8-91bb35aaf457",
   "metadata": {},
   "outputs": [
    {
     "ename": "IndentationError",
     "evalue": "unexpected indent (756317653.py, line 3)",
     "output_type": "error",
     "traceback": [
      "  \u001b[36mCell\u001b[39m\u001b[36m \u001b[39m\u001b[32mIn[1]\u001b[39m\u001b[32m, line 3\u001b[39m\n\u001b[31m    \u001b[39m\u001b[31mfor j in range (0,len(li)+1):\u001b[39m\n    ^\n\u001b[31mIndentationError\u001b[39m\u001b[31m:\u001b[39m unexpected indent\n"
     ]
    }
   ],
   "source": [
    "li= [10,20,30,40]\n",
    "upo=[]\n",
    "    for j in range (0,len(li)+1):\n",
    "        print(j)\n",
    "        new = li[i:j]\n",
    "        upo.append(new)\n",
    "print(upo)\n",
    "        "
   ]
  },
  {
   "cell_type": "markdown",
   "id": "34026b5f-096d-4157-9cfb-b394b094d661",
   "metadata": {},
   "source": [
    "# list range\n"
   ]
  },
  {
   "cell_type": "code",
   "execution_count": 8,
   "id": "c324ac29-bb1b-4c61-9935-70d7233b808b",
   "metadata": {},
   "outputs": [
    {
     "name": "stdout",
     "output_type": "stream",
     "text": [
      "['p1', 'q1', 'p2', 'q2', 'p3', 'q3', 'p4', 'q4', 'p5', 'q5']\n"
     ]
    }
   ],
   "source": [
    "a=['p','q']\n",
    "n=5\n",
    "li =[]\n",
    "for i in range(1,n+1):\n",
    "    for j in  a:\n",
    "        new =j+str(i)\n",
    "        li.append(new)\n",
    "print(li)\n",
    "        "
   ]
  },
  {
   "cell_type": "code",
   "execution_count": null,
   "id": "72efd797-79c1-4474-816f-5246129350c7",
   "metadata": {},
   "outputs": [],
   "source": []
  }
 ],
 "metadata": {
  "kernelspec": {
   "display_name": "Python 3 (ipykernel)",
   "language": "python",
   "name": "python3"
  },
  "language_info": {
   "codemirror_mode": {
    "name": "ipython",
    "version": 3
   },
   "file_extension": ".py",
   "mimetype": "text/x-python",
   "name": "python",
   "nbconvert_exporter": "python",
   "pygments_lexer": "ipython3",
   "version": "3.13.2"
  }
 },
 "nbformat": 4,
 "nbformat_minor": 5
}
